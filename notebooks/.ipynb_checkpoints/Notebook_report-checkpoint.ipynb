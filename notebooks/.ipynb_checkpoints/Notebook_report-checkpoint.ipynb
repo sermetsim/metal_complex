{
 "cells": [
  {
   "cell_type": "markdown",
   "id": "b8575f58-136c-451e-9a8d-bd973721792e",
   "metadata": {},
   "source": [
    "# Welcome to **metal_complex**"
   ]
  },
  {
   "cell_type": "markdown",
   "id": "ac3335b7-1cc3-4976-969d-fcf6b2d3ae35",
   "metadata": {},
   "source": [
    "## What can achieve this python package?"
   ]
  },
  {
   "cell_type": "markdown",
   "id": "f6a57fea-d9af-4ccd-9dfd-66be9f339a98",
   "metadata": {
    "jp-MarkdownHeadingCollapsed": true
   },
   "source": [
    "### Initialisation"
   ]
  },
  {
   "cell_type": "markdown",
   "id": "c9d51fbd-6f89-48fa-9be8-cbc2e270484a",
   "metadata": {},
   "source": [
    "First of all, the functions must be import."
   ]
  },
  {
   "cell_type": "code",
   "execution_count": null,
   "id": "02f136e8-9f80-4715-bf30-04cf44cbc505",
   "metadata": {},
   "outputs": [],
   "source": [
    "import sys\n",
    "import os\n",
    "notebook_path = os.getcwd()  # Get the current working directory\n",
    "src_path = os.path.abspath(os.path.join(notebook_path, \"../src\"))\n",
    "sys.path.insert(0, src_path)\n",
    "from main_functions import *"
   ]
  },
  {
   "cell_type": "markdown",
   "id": "a9f945e5-c06a-4a78-b5ab-7cdc0008bfc2",
   "metadata": {
    "jp-MarkdownHeadingCollapsed": true
   },
   "source": [
    "### Modelise 3D metal complex\n",
    "This package has few useful functions as a chemist. First of all, let's talk about the 3D vizualisation of a metal complex as said in the package name. The next code show a six coordination number complex: $[Fe(en)_{3}]^{+3}$"
   ]
  },
  {
   "cell_type": "code",
   "execution_count": 10,
   "id": "a858a2f7-45a6-47e9-80e0-5afd2cc2de7b",
   "metadata": {},
   "outputs": [],
   "source": [
    "list_of_ligand_SMILES = ['N([H])([H])C([H])([H])C([H])([H])N([H])[H]','N([H])([H])C([H])([H])C([H])([H])N([H])[H]','N([H])([H])C([H])([H])C([H])([H])N([H])[H]']\n",
    "metal_SMILES = '[Fe]'\n",
    "metal_complex(list_of_ligand_SMILES, metal_SMILES)"
   ]
  },
  {
   "cell_type": "markdown",
   "id": "3a6531ef-1472-419e-8334-04eaaa9e4f6f",
   "metadata": {},
   "source": [
    "#### Errors\n",
    "As you can see, the molecule is interactive but some atoms are not recognize by rdkit (`error UFFTYPER`) but it does not impact the viewer. However, this function does not work with all ligands: firstly, it can return a non possible molecule with bad geometry and secondly, the results may changed if the code is use two times:"
   ]
  },
  {
   "cell_type": "code",
   "execution_count": 13,
   "id": "74cfd36e-ad57-439d-a22b-5f0d7b4f3d30",
   "metadata": {},
   "outputs": [],
   "source": [
    "list_of_ligand_SMILES = ['[Cl]','[Cl]','[Cl]','[Cl]','[Cl]','[Cl]']\n",
    "metal_SMILES = '[Ni]'\n",
    "metal_complex(list_of_ligand_SMILES, metal_SMILES)"
   ]
  },
  {
   "cell_type": "markdown",
   "id": "950b7677-60b5-4d77-a2a7-acf1e2d9056c",
   "metadata": {},
   "source": [
    "In this example, the molecule is not octahedric and the bonds between Ni and the Cls are of different length.  \n",
    "Nevertheless it is not the only problem: in the used data, <u>ligands_misc_info.csv</u>, some ligands does not have filled data. For example, the methane does not appear in the data so it returns a wrong 3D molecule."
   ]
  },
  {
   "cell_type": "code",
   "execution_count": 20,
   "id": "9b03fcfc-e0bb-4c46-9433-50daf0aef3fa",
   "metadata": {},
   "outputs": [],
   "source": [
    "list_of_ligand_SMILES = ['C','C','C']\n",
    "metal_SMILES = '[Fe]'\n",
    "metal_complex(list_of_ligand_SMILES, metal_SMILES)"
   ]
  },
  {
   "cell_type": "markdown",
   "id": "e8ec9a3a-892d-4708-8e69-9d69d888e14e",
   "metadata": {
    "jp-MarkdownHeadingCollapsed": true
   },
   "source": [
    "### Give the oxydation state"
   ]
  },
  {
   "cell_type": "markdown",
   "id": "2248b736-bb28-4c78-a219-75d09a254032",
   "metadata": {},
   "source": []
  },
  {
   "cell_type": "markdown",
   "id": "875058bb-c3ae-4530-aa2d-1577150a1e50",
   "metadata": {
    "jp-MarkdownHeadingCollapsed": true
   },
   "source": [
    "### Give the moleculare mass"
   ]
  },
  {
   "cell_type": "markdown",
   "id": "b63c7960-83be-4a07-88a7-d34090af46b5",
   "metadata": {},
   "source": [
    "A simple function add to the package determine the mass of the 3D complex by giving the SMILES of all the ligands and the one of the metal.  \n",
    "The functions is round at 3 decimals and show the molecular mass even if the molecule does not appear correctly with the <u>metal_complex</u> function."
   ]
  },
  {
   "cell_type": "code",
   "execution_count": 24,
   "id": "b4839b01-8422-445a-8fa2-0a90dc759863",
   "metadata": {},
   "outputs": [],
   "source": [
    "list_of_ligand_SMILES = ['[Cl]','[Cl]','[Cl]','[Cl]','[Cl]','[Cl]']\n",
    "metal_SMILES = '[Ni]'\n",
    "print(calculate_MO(list_of_ligand_SMILES, metal_SMILES))\n",
    "\n",
    "list_of_ligand_SMILES = ['c1ccccc1','c1ccccc1','c1ccccc1','c1ccccc1']\n",
    "metal_SMILES = '[Pt]'\n",
    "print(calculate_MO(list_of_ligand_SMILES, metal_SMILES))"
   ]
  },
  {
   "cell_type": "markdown",
   "id": "13a0b6c9-47fa-40f0-9e60-ca857503b682",
   "metadata": {},
   "source": [
    "## Tkinter interface"
   ]
  },
  {
   "cell_type": "markdown",
   "id": "264dc0a0-f431-44f1-8386-4b8f7afb5998",
   "metadata": {},
   "source": []
  },
  {
   "cell_type": "markdown",
   "id": "d6ef12ce-ea80-42ee-99e9-834ac6e7b2e3",
   "metadata": {},
   "source": []
  },
  {
   "cell_type": "markdown",
   "id": "9d8a7895-4cc6-4400-8094-ea232439c88a",
   "metadata": {},
   "source": []
  },
  {
   "cell_type": "markdown",
   "id": "5e67d48a-6664-4c60-a722-a659789a2c28",
   "metadata": {},
   "source": []
  },
  {
   "cell_type": "markdown",
   "id": "f33a5c56-9b91-4737-904e-65ca984a65a7",
   "metadata": {},
   "source": []
  }
 ],
 "metadata": {
  "kernelspec": {
   "display_name": "Python 3 (ipykernel)",
   "language": "python",
   "name": "python3"
  },
  "language_info": {
   "codemirror_mode": {
    "name": "ipython",
    "version": 3
   },
   "file_extension": ".py",
   "mimetype": "text/x-python",
   "name": "python",
   "nbconvert_exporter": "python",
   "pygments_lexer": "ipython3",
   "version": "3.10.14"
  }
 },
 "nbformat": 4,
 "nbformat_minor": 5
}
