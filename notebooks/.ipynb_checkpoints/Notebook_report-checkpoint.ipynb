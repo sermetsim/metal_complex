{
 "cells": [
  {
   "cell_type": "markdown",
   "id": "b8575f58-136c-451e-9a8d-bd973721792e",
   "metadata": {},
   "source": [
    "# Welcome to **metal_complex**"
   ]
  },
  {
   "cell_type": "markdown",
   "id": "ac3335b7-1cc3-4976-969d-fcf6b2d3ae35",
   "metadata": {},
   "source": [
    "## What can achieve this python package?"
   ]
  },
  {
   "cell_type": "markdown",
   "id": "f6a57fea-d9af-4ccd-9dfd-66be9f339a98",
   "metadata": {},
   "source": [
    "### Initialisation"
   ]
  },
  {
   "cell_type": "markdown",
   "id": "c9d51fbd-6f89-48fa-9be8-cbc2e270484a",
   "metadata": {},
   "source": [
    "First of all, the functions must be import."
   ]
  },
  {
   "cell_type": "code",
   "execution_count": 1,
   "id": "02f136e8-9f80-4715-bf30-04cf44cbc505",
   "metadata": {},
   "outputs": [],
   "source": [
    "import sys\n",
    "import os\n",
    "notebook_path = os.getcwd()  # Get the current working directory\n",
    "src_path = os.path.abspath(os.path.join(notebook_path, \"../src\"))\n",
    "sys.path.insert(0, src_path)\n",
    "from main_functions import *"
   ]
  },
  {
   "cell_type": "markdown",
   "id": "a9f945e5-c06a-4a78-b5ab-7cdc0008bfc2",
   "metadata": {},
   "source": [
    "### Modelise 3D metal complex\n",
    "This package has few useful functions as a chemist. First of all, let's talk about the 3D vizualisation of a metal complex as said in the package name. The next code show a six coordination number complex: $[Fe(en)_{3}]^{+3}$"
   ]
  },
  {
   "cell_type": "code",
   "execution_count": 2,
   "id": "a858a2f7-45a6-47e9-80e0-5afd2cc2de7b",
   "metadata": {},
   "outputs": [
    {
     "name": "stderr",
     "output_type": "stream",
     "text": [
      "[14:07:59] UFFTYPER: Unrecognized atom type: N_5 (0)\n",
      "[14:07:59] UFFTYPER: Unrecognized atom type: N_5 (3)\n",
      "[14:07:59] UFFTYPER: Unrecognized atom type: N_5 (4)\n",
      "[14:07:59] UFFTYPER: Unrecognized atom type: N_5 (7)\n",
      "[14:07:59] UFFTYPER: Unrecognized atom type: N_5 (8)\n",
      "[14:07:59] UFFTYPER: Unrecognized atom type: N_5 (11)\n",
      "[14:07:59] UFFTYPER: Unrecognized hybridization for atom: 12\n",
      "[14:07:59] UFFTYPER: Unrecognized atom type: Fe+2 (12)\n"
     ]
    },
    {
     "data": {
      "application/3dmoljs_load.v0": "<div id=\"3dmolviewer_171646607996304\"  style=\"position: relative; width: 400px; height: 300px;\">\n        <p id=\"3dmolwarning_171646607996304\" style=\"background-color:#ffcccc;color:black\">3Dmol.js failed to load for some reason.  Please check your browser console for error messages.<br></p>\n        </div>\n<script>\n\nvar loadScriptAsync = function(uri){\n  return new Promise((resolve, reject) => {\n    //this is to ignore the existence of requirejs amd\n    var savedexports, savedmodule;\n    if (typeof exports !== 'undefined') savedexports = exports;\n    else exports = {}\n    if (typeof module !== 'undefined') savedmodule = module;\n    else module = {}\n\n    var tag = document.createElement('script');\n    tag.src = uri;\n    tag.async = true;\n    tag.onload = () => {\n        exports = savedexports;\n        module = savedmodule;\n        resolve();\n    };\n  var firstScriptTag = document.getElementsByTagName('script')[0];\n  firstScriptTag.parentNode.insertBefore(tag, firstScriptTag);\n});\n};\n\nif(typeof $3Dmolpromise === 'undefined') {\n$3Dmolpromise = null;\n  $3Dmolpromise = loadScriptAsync('https://cdnjs.cloudflare.com/ajax/libs/3Dmol/2.1.0/3Dmol-min.js');\n}\n\nvar viewer_171646607996304 = null;\nvar warn = document.getElementById(\"3dmolwarning_171646607996304\");\nif(warn) {\n    warn.parentNode.removeChild(warn);\n}\n$3Dmolpromise.then(function() {\nviewer_171646607996304 = $3Dmol.createViewer(document.getElementById(\"3dmolviewer_171646607996304\"),{backgroundColor:\"white\"});\nviewer_171646607996304.zoomTo();\n\tviewer_171646607996304.addModel(\"\\n     RDKit          3D\\n\\n  0  0  0  0  0  0  0  0  0  0999 V3000\\nM  V30 BEGIN CTAB\\nM  V30 COUNTS 37 39 0 0 0\\nM  V30 BEGIN ATOM\\nM  V30 1 N -0.832070 -1.220570 -1.301274 0 VAL=4\\nM  V30 2 C -1.359341 -2.758271 -0.718951 0\\nM  V30 3 C -1.836629 -2.138853 0.601104 0\\nM  V30 4 N -0.747264 -1.092991 0.870605 0 VAL=4\\nM  V30 5 N -0.315572 0.991063 1.394932 0 VAL=4\\nM  V30 6 C -1.618729 2.225415 1.285732 0\\nM  V30 7 C -2.446191 1.264029 0.393797 0\\nM  V30 8 N -1.430465 0.600929 -0.385946 0 VAL=4\\nM  V30 9 N 1.932006 -0.203037 0.469240 0 VAL=4\\nM  V30 10 C 3.184577 0.187331 -0.218529 0\\nM  V30 11 C 2.642818 1.473159 -0.898970 0\\nM  V30 12 N 1.304151 0.591765 -1.494124 0 VAL=4\\nM  V30 13 Fe 0.152644 -0.031107 -0.133107 0 VAL=6\\nM  V30 14 H 0.912840 -2.178049 -1.470967 0\\nM  V30 15 H -0.773820 -1.247739 -2.360414 0\\nM  V30 16 H -0.621882 -3.465953 -0.575591 0\\nM  V30 17 H -2.191156 -2.871980 -1.390627 0\\nM  V30 18 H -2.812084 -1.726018 0.428836 0\\nM  V30 19 H -1.925564 -2.969353 1.292394 0\\nM  V30 20 H -0.111292 -1.612987 2.083421 0\\nM  V30 21 H 0.509282 -2.680903 0.473863 0\\nM  V30 22 H 0.085281 1.102487 2.322066 0\\nM  V30 23 H 0.790315 2.374354 0.786168 0\\nM  V30 24 H -1.937853 2.172672 2.309858 0\\nM  V30 25 H -1.286063 3.069709 0.805773 0\\nM  V30 26 H -3.165511 1.937411 -0.111505 0\\nM  V30 27 H -3.038063 0.683541 1.094375 0\\nM  V30 28 H -1.580875 1.250127 -1.831888 0\\nM  V30 29 H -0.678790 2.527423 -0.656866 0\\nM  V30 30 H 2.091965 -0.513171 1.691237 0\\nM  V30 31 H 1.961400 -1.915020 0.142113 0\\nM  V30 32 H 3.570426 -0.423835 -1.046560 0\\nM  V30 33 H 3.947047 0.573740 0.477288 0\\nM  V30 34 H 3.150555 1.677392 -1.817890 0\\nM  V30 35 H 2.395835 2.255221 -0.240277 0\\nM  V30 36 H 0.609504 1.961100 -1.836667 0\\nM  V30 37 H 1.468567 0.130966 -2.473045 0\\nM  V30 END ATOM\\nM  V30 BEGIN BOND\\nM  V30 1 1 1 2\\nM  V30 2 1 2 3\\nM  V30 3 1 3 4\\nM  V30 4 1 5 6\\nM  V30 5 1 6 7\\nM  V30 6 1 7 8\\nM  V30 7 1 9 10\\nM  V30 8 1 10 11\\nM  V30 9 1 11 12\\nM  V30 10 1 1 13\\nM  V30 11 1 4 13\\nM  V30 12 1 5 13\\nM  V30 13 1 8 13\\nM  V30 14 1 9 13\\nM  V30 15 1 12 13\\nM  V30 16 1 1 14\\nM  V30 17 1 1 15\\nM  V30 18 1 2 16\\nM  V30 19 1 2 17\\nM  V30 20 1 3 18\\nM  V30 21 1 3 19\\nM  V30 22 1 4 20\\nM  V30 23 1 4 21\\nM  V30 24 1 5 22\\nM  V30 25 1 5 23\\nM  V30 26 1 6 24\\nM  V30 27 1 6 25\\nM  V30 28 1 7 26\\nM  V30 29 1 7 27\\nM  V30 30 1 8 28\\nM  V30 31 1 8 29\\nM  V30 32 1 9 30\\nM  V30 33 1 9 31\\nM  V30 34 1 10 32\\nM  V30 35 1 10 33\\nM  V30 36 1 11 34\\nM  V30 37 1 11 35\\nM  V30 38 1 12 36\\nM  V30 39 1 12 37\\nM  V30 END BOND\\nM  V30 BEGIN COLLECTION\\nM  V30 MDLV30/STEABS ATOMS=(0)\\nM  V30 END COLLECTION\\nM  V30 END CTAB\\nM  END\\n\",\"mol\");\n\tviewer_171646607996304.setStyle({\"stick\": {}});\n\tviewer_171646607996304.zoomTo();\nviewer_171646607996304.render();\n});\n</script>",
      "text/html": [
       "<div id=\"3dmolviewer_171646607996304\"  style=\"position: relative; width: 400px; height: 300px;\">\n",
       "        <p id=\"3dmolwarning_171646607996304\" style=\"background-color:#ffcccc;color:black\">3Dmol.js failed to load for some reason.  Please check your browser console for error messages.<br></p>\n",
       "        </div>\n",
       "<script>\n",
       "\n",
       "var loadScriptAsync = function(uri){\n",
       "  return new Promise((resolve, reject) => {\n",
       "    //this is to ignore the existence of requirejs amd\n",
       "    var savedexports, savedmodule;\n",
       "    if (typeof exports !== 'undefined') savedexports = exports;\n",
       "    else exports = {}\n",
       "    if (typeof module !== 'undefined') savedmodule = module;\n",
       "    else module = {}\n",
       "\n",
       "    var tag = document.createElement('script');\n",
       "    tag.src = uri;\n",
       "    tag.async = true;\n",
       "    tag.onload = () => {\n",
       "        exports = savedexports;\n",
       "        module = savedmodule;\n",
       "        resolve();\n",
       "    };\n",
       "  var firstScriptTag = document.getElementsByTagName('script')[0];\n",
       "  firstScriptTag.parentNode.insertBefore(tag, firstScriptTag);\n",
       "});\n",
       "};\n",
       "\n",
       "if(typeof $3Dmolpromise === 'undefined') {\n",
       "$3Dmolpromise = null;\n",
       "  $3Dmolpromise = loadScriptAsync('https://cdnjs.cloudflare.com/ajax/libs/3Dmol/2.1.0/3Dmol-min.js');\n",
       "}\n",
       "\n",
       "var viewer_171646607996304 = null;\n",
       "var warn = document.getElementById(\"3dmolwarning_171646607996304\");\n",
       "if(warn) {\n",
       "    warn.parentNode.removeChild(warn);\n",
       "}\n",
       "$3Dmolpromise.then(function() {\n",
       "viewer_171646607996304 = $3Dmol.createViewer(document.getElementById(\"3dmolviewer_171646607996304\"),{backgroundColor:\"white\"});\n",
       "viewer_171646607996304.zoomTo();\n",
       "\tviewer_171646607996304.addModel(\"\\n     RDKit          3D\\n\\n  0  0  0  0  0  0  0  0  0  0999 V3000\\nM  V30 BEGIN CTAB\\nM  V30 COUNTS 37 39 0 0 0\\nM  V30 BEGIN ATOM\\nM  V30 1 N -0.832070 -1.220570 -1.301274 0 VAL=4\\nM  V30 2 C -1.359341 -2.758271 -0.718951 0\\nM  V30 3 C -1.836629 -2.138853 0.601104 0\\nM  V30 4 N -0.747264 -1.092991 0.870605 0 VAL=4\\nM  V30 5 N -0.315572 0.991063 1.394932 0 VAL=4\\nM  V30 6 C -1.618729 2.225415 1.285732 0\\nM  V30 7 C -2.446191 1.264029 0.393797 0\\nM  V30 8 N -1.430465 0.600929 -0.385946 0 VAL=4\\nM  V30 9 N 1.932006 -0.203037 0.469240 0 VAL=4\\nM  V30 10 C 3.184577 0.187331 -0.218529 0\\nM  V30 11 C 2.642818 1.473159 -0.898970 0\\nM  V30 12 N 1.304151 0.591765 -1.494124 0 VAL=4\\nM  V30 13 Fe 0.152644 -0.031107 -0.133107 0 VAL=6\\nM  V30 14 H 0.912840 -2.178049 -1.470967 0\\nM  V30 15 H -0.773820 -1.247739 -2.360414 0\\nM  V30 16 H -0.621882 -3.465953 -0.575591 0\\nM  V30 17 H -2.191156 -2.871980 -1.390627 0\\nM  V30 18 H -2.812084 -1.726018 0.428836 0\\nM  V30 19 H -1.925564 -2.969353 1.292394 0\\nM  V30 20 H -0.111292 -1.612987 2.083421 0\\nM  V30 21 H 0.509282 -2.680903 0.473863 0\\nM  V30 22 H 0.085281 1.102487 2.322066 0\\nM  V30 23 H 0.790315 2.374354 0.786168 0\\nM  V30 24 H -1.937853 2.172672 2.309858 0\\nM  V30 25 H -1.286063 3.069709 0.805773 0\\nM  V30 26 H -3.165511 1.937411 -0.111505 0\\nM  V30 27 H -3.038063 0.683541 1.094375 0\\nM  V30 28 H -1.580875 1.250127 -1.831888 0\\nM  V30 29 H -0.678790 2.527423 -0.656866 0\\nM  V30 30 H 2.091965 -0.513171 1.691237 0\\nM  V30 31 H 1.961400 -1.915020 0.142113 0\\nM  V30 32 H 3.570426 -0.423835 -1.046560 0\\nM  V30 33 H 3.947047 0.573740 0.477288 0\\nM  V30 34 H 3.150555 1.677392 -1.817890 0\\nM  V30 35 H 2.395835 2.255221 -0.240277 0\\nM  V30 36 H 0.609504 1.961100 -1.836667 0\\nM  V30 37 H 1.468567 0.130966 -2.473045 0\\nM  V30 END ATOM\\nM  V30 BEGIN BOND\\nM  V30 1 1 1 2\\nM  V30 2 1 2 3\\nM  V30 3 1 3 4\\nM  V30 4 1 5 6\\nM  V30 5 1 6 7\\nM  V30 6 1 7 8\\nM  V30 7 1 9 10\\nM  V30 8 1 10 11\\nM  V30 9 1 11 12\\nM  V30 10 1 1 13\\nM  V30 11 1 4 13\\nM  V30 12 1 5 13\\nM  V30 13 1 8 13\\nM  V30 14 1 9 13\\nM  V30 15 1 12 13\\nM  V30 16 1 1 14\\nM  V30 17 1 1 15\\nM  V30 18 1 2 16\\nM  V30 19 1 2 17\\nM  V30 20 1 3 18\\nM  V30 21 1 3 19\\nM  V30 22 1 4 20\\nM  V30 23 1 4 21\\nM  V30 24 1 5 22\\nM  V30 25 1 5 23\\nM  V30 26 1 6 24\\nM  V30 27 1 6 25\\nM  V30 28 1 7 26\\nM  V30 29 1 7 27\\nM  V30 30 1 8 28\\nM  V30 31 1 8 29\\nM  V30 32 1 9 30\\nM  V30 33 1 9 31\\nM  V30 34 1 10 32\\nM  V30 35 1 10 33\\nM  V30 36 1 11 34\\nM  V30 37 1 11 35\\nM  V30 38 1 12 36\\nM  V30 39 1 12 37\\nM  V30 END BOND\\nM  V30 BEGIN COLLECTION\\nM  V30 MDLV30/STEABS ATOMS=(0)\\nM  V30 END COLLECTION\\nM  V30 END CTAB\\nM  END\\n\",\"mol\");\n",
       "\tviewer_171646607996304.setStyle({\"stick\": {}});\n",
       "\tviewer_171646607996304.zoomTo();\n",
       "viewer_171646607996304.render();\n",
       "});\n",
       "</script>"
      ]
     },
     "metadata": {},
     "output_type": "display_data"
    }
   ],
   "source": [
    "list_of_ligand_SMILES = ['N([H])([H])C([H])([H])C([H])([H])N([H])[H]','N([H])([H])C([H])([H])C([H])([H])N([H])[H]','N([H])([H])C([H])([H])C([H])([H])N([H])[H]']\n",
    "metal_SMILES = '[Fe]'\n",
    "metal_complex(list_of_ligand_SMILES, metal_SMILES)"
   ]
  },
  {
   "cell_type": "markdown",
   "id": "3a6531ef-1472-419e-8334-04eaaa9e4f6f",
   "metadata": {},
   "source": [
    "#### Errors\n",
    "As you can see, the molecule is interactive but some atoms are not recognize by rdkit (`error UFFTYPER`) but it does not impact the viewer. However, this function does not work with all ligands, often it better works with chelating ligands: firstly, it can return a non possible molecule with bad geometry and secondly, the results may changed if the code is use two times:"
   ]
  },
  {
   "cell_type": "code",
   "execution_count": 3,
   "id": "74cfd36e-ad57-439d-a22b-5f0d7b4f3d30",
   "metadata": {},
   "outputs": [
    {
     "name": "stderr",
     "output_type": "stream",
     "text": [
      "[14:08:26] UFFTYPER: Unrecognized hybridization for atom: 6\n",
      "[14:08:26] UFFTYPER: Unrecognized atom type: Ni+2 (6)\n"
     ]
    },
    {
     "data": {
      "application/3dmoljs_load.v0": "<div id=\"3dmolviewer_17164661064297984\"  style=\"position: relative; width: 400px; height: 300px;\">\n        <p id=\"3dmolwarning_17164661064297984\" style=\"background-color:#ffcccc;color:black\">3Dmol.js failed to load for some reason.  Please check your browser console for error messages.<br></p>\n        </div>\n<script>\n\nvar loadScriptAsync = function(uri){\n  return new Promise((resolve, reject) => {\n    //this is to ignore the existence of requirejs amd\n    var savedexports, savedmodule;\n    if (typeof exports !== 'undefined') savedexports = exports;\n    else exports = {}\n    if (typeof module !== 'undefined') savedmodule = module;\n    else module = {}\n\n    var tag = document.createElement('script');\n    tag.src = uri;\n    tag.async = true;\n    tag.onload = () => {\n        exports = savedexports;\n        module = savedmodule;\n        resolve();\n    };\n  var firstScriptTag = document.getElementsByTagName('script')[0];\n  firstScriptTag.parentNode.insertBefore(tag, firstScriptTag);\n});\n};\n\nif(typeof $3Dmolpromise === 'undefined') {\n$3Dmolpromise = null;\n  $3Dmolpromise = loadScriptAsync('https://cdnjs.cloudflare.com/ajax/libs/3Dmol/2.1.0/3Dmol-min.js');\n}\n\nvar viewer_17164661064297984 = null;\nvar warn = document.getElementById(\"3dmolwarning_17164661064297984\");\nif(warn) {\n    warn.parentNode.removeChild(warn);\n}\n$3Dmolpromise.then(function() {\nviewer_17164661064297984 = $3Dmol.createViewer(document.getElementById(\"3dmolviewer_17164661064297984\"),{backgroundColor:\"white\"});\nviewer_17164661064297984.zoomTo();\n\tviewer_17164661064297984.addModel(\"\\n     RDKit          3D\\n\\n  0  0  0  0  0  0  0  0  0  0999 V3000\\nM  V30 BEGIN CTAB\\nM  V30 COUNTS 7 6 0 0 0\\nM  V30 BEGIN ATOM\\nM  V30 1 Cl -1.681076 -0.590671 0.878871 0 RAD=2 VAL=1\\nM  V30 2 Cl 0.267525 -1.466071 -0.039478 0 RAD=2 VAL=1\\nM  V30 3 Cl 2.090362 -1.149167 0.375094 0 RAD=2 VAL=1\\nM  V30 4 Cl 1.511071 2.185563 0.165304 0 RAD=2 VAL=1\\nM  V30 5 Cl -1.220272 1.224714 -0.598743 0 RAD=2 VAL=1\\nM  V30 6 Cl -1.245459 -0.026164 0.086903 0 RAD=2 VAL=1\\nM  V30 7 Ni 0.277848 -0.178204 0.879599 0 VAL=6\\nM  V30 END ATOM\\nM  V30 BEGIN BOND\\nM  V30 1 1 1 7\\nM  V30 2 1 2 7\\nM  V30 3 1 3 7\\nM  V30 4 1 4 7\\nM  V30 5 1 5 7\\nM  V30 6 1 6 7\\nM  V30 END BOND\\nM  V30 BEGIN COLLECTION\\nM  V30 MDLV30/STEABS ATOMS=(0)\\nM  V30 END COLLECTION\\nM  V30 END CTAB\\nM  END\\n\",\"mol\");\n\tviewer_17164661064297984.setStyle({\"stick\": {}});\n\tviewer_17164661064297984.zoomTo();\nviewer_17164661064297984.render();\n});\n</script>",
      "text/html": [
       "<div id=\"3dmolviewer_17164661064297984\"  style=\"position: relative; width: 400px; height: 300px;\">\n",
       "        <p id=\"3dmolwarning_17164661064297984\" style=\"background-color:#ffcccc;color:black\">3Dmol.js failed to load for some reason.  Please check your browser console for error messages.<br></p>\n",
       "        </div>\n",
       "<script>\n",
       "\n",
       "var loadScriptAsync = function(uri){\n",
       "  return new Promise((resolve, reject) => {\n",
       "    //this is to ignore the existence of requirejs amd\n",
       "    var savedexports, savedmodule;\n",
       "    if (typeof exports !== 'undefined') savedexports = exports;\n",
       "    else exports = {}\n",
       "    if (typeof module !== 'undefined') savedmodule = module;\n",
       "    else module = {}\n",
       "\n",
       "    var tag = document.createElement('script');\n",
       "    tag.src = uri;\n",
       "    tag.async = true;\n",
       "    tag.onload = () => {\n",
       "        exports = savedexports;\n",
       "        module = savedmodule;\n",
       "        resolve();\n",
       "    };\n",
       "  var firstScriptTag = document.getElementsByTagName('script')[0];\n",
       "  firstScriptTag.parentNode.insertBefore(tag, firstScriptTag);\n",
       "});\n",
       "};\n",
       "\n",
       "if(typeof $3Dmolpromise === 'undefined') {\n",
       "$3Dmolpromise = null;\n",
       "  $3Dmolpromise = loadScriptAsync('https://cdnjs.cloudflare.com/ajax/libs/3Dmol/2.1.0/3Dmol-min.js');\n",
       "}\n",
       "\n",
       "var viewer_17164661064297984 = null;\n",
       "var warn = document.getElementById(\"3dmolwarning_17164661064297984\");\n",
       "if(warn) {\n",
       "    warn.parentNode.removeChild(warn);\n",
       "}\n",
       "$3Dmolpromise.then(function() {\n",
       "viewer_17164661064297984 = $3Dmol.createViewer(document.getElementById(\"3dmolviewer_17164661064297984\"),{backgroundColor:\"white\"});\n",
       "viewer_17164661064297984.zoomTo();\n",
       "\tviewer_17164661064297984.addModel(\"\\n     RDKit          3D\\n\\n  0  0  0  0  0  0  0  0  0  0999 V3000\\nM  V30 BEGIN CTAB\\nM  V30 COUNTS 7 6 0 0 0\\nM  V30 BEGIN ATOM\\nM  V30 1 Cl -1.681076 -0.590671 0.878871 0 RAD=2 VAL=1\\nM  V30 2 Cl 0.267525 -1.466071 -0.039478 0 RAD=2 VAL=1\\nM  V30 3 Cl 2.090362 -1.149167 0.375094 0 RAD=2 VAL=1\\nM  V30 4 Cl 1.511071 2.185563 0.165304 0 RAD=2 VAL=1\\nM  V30 5 Cl -1.220272 1.224714 -0.598743 0 RAD=2 VAL=1\\nM  V30 6 Cl -1.245459 -0.026164 0.086903 0 RAD=2 VAL=1\\nM  V30 7 Ni 0.277848 -0.178204 0.879599 0 VAL=6\\nM  V30 END ATOM\\nM  V30 BEGIN BOND\\nM  V30 1 1 1 7\\nM  V30 2 1 2 7\\nM  V30 3 1 3 7\\nM  V30 4 1 4 7\\nM  V30 5 1 5 7\\nM  V30 6 1 6 7\\nM  V30 END BOND\\nM  V30 BEGIN COLLECTION\\nM  V30 MDLV30/STEABS ATOMS=(0)\\nM  V30 END COLLECTION\\nM  V30 END CTAB\\nM  END\\n\",\"mol\");\n",
       "\tviewer_17164661064297984.setStyle({\"stick\": {}});\n",
       "\tviewer_17164661064297984.zoomTo();\n",
       "viewer_17164661064297984.render();\n",
       "});\n",
       "</script>"
      ]
     },
     "metadata": {},
     "output_type": "display_data"
    }
   ],
   "source": [
    "list_of_ligand_SMILES = ['[Cl]','[Cl]','[Cl]','[Cl]','[Cl]','[Cl]']\n",
    "metal_SMILES = '[Ni]'\n",
    "metal_complex(list_of_ligand_SMILES, metal_SMILES)"
   ]
  },
  {
   "cell_type": "markdown",
   "id": "950b7677-60b5-4d77-a2a7-acf1e2d9056c",
   "metadata": {},
   "source": [
    "In this example, the molecule is not octahedric and the bonds between Ni and the Cls are of different length.  \n",
    "Nevertheless it is not the only problem: in the used data, <u>ligands_misc_info.csv</u>, some ligands does not have filled data. For example, the octane does not appear in the data, thus it returns an error because some functions cannot work without correct idx_list.  \n",
    "Also, the input SMILES **<u>need</u>** to be the one in the <u>ligands_misc_info.csv</u> data, otherwise an error can be raised or a wrong molecule can be shown."
   ]
  },
  {
   "cell_type": "code",
   "execution_count": 12,
   "id": "9b03fcfc-e0bb-4c46-9433-50daf0aef3fa",
   "metadata": {},
   "outputs": [],
   "source": [
    "list_of_ligand_SMILES = ['[C]([H])([H])C([H])([H])C([H])([H])C([H])([H])C([H])([H])C([H])([H])C([H])([H])C([H])([H])[H]']\n",
    "metal_complex(list_of_ligand_SMILES, metal_SMILES)"
   ]
  },
  {
   "cell_type": "markdown",
   "id": "e8ec9a3a-892d-4708-8e69-9d69d888e14e",
   "metadata": {},
   "source": [
    "### Give the oxydation state"
   ]
  },
  {
   "cell_type": "markdown",
   "id": "2248b736-bb28-4c78-a219-75d09a254032",
   "metadata": {},
   "source": []
  },
  {
   "cell_type": "markdown",
   "id": "875058bb-c3ae-4530-aa2d-1577150a1e50",
   "metadata": {},
   "source": [
    "### Give the moleculare mass"
   ]
  },
  {
   "cell_type": "markdown",
   "id": "b63c7960-83be-4a07-88a7-d34090af46b5",
   "metadata": {},
   "source": [
    "A simple function add to the package determine the mass of the 3D complex by giving the SMILES of all the ligands and the one of the metal.  \n",
    "The functions is round at 3 decimals and show the molecular mass even if the molecule does not appear correctly with the <u>metal_complex</u> function."
   ]
  },
  {
   "cell_type": "code",
   "execution_count": 24,
   "id": "b4839b01-8422-445a-8fa2-0a90dc759863",
   "metadata": {},
   "outputs": [],
   "source": [
    "list_of_ligand_SMILES = ['[Cl]','[Cl]','[Cl]','[Cl]','[Cl]','[Cl]']\n",
    "metal_SMILES = '[Ni]'\n",
    "print(calculate_MO(list_of_ligand_SMILES, metal_SMILES))\n",
    "\n",
    "list_of_ligand_SMILES = ['c1ccccc1','c1ccccc1','c1ccccc1','c1ccccc1']\n",
    "metal_SMILES = '[Pt]'\n",
    "print(calculate_MO(list_of_ligand_SMILES, metal_SMILES))"
   ]
  },
  {
   "cell_type": "markdown",
   "id": "13a0b6c9-47fa-40f0-9e60-ca857503b682",
   "metadata": {},
   "source": [
    "## Tkinter interface"
   ]
  },
  {
   "cell_type": "markdown",
   "id": "264dc0a0-f431-44f1-8386-4b8f7afb5998",
   "metadata": {},
   "source": []
  },
  {
   "cell_type": "markdown",
   "id": "d6ef12ce-ea80-42ee-99e9-834ac6e7b2e3",
   "metadata": {},
   "source": []
  },
  {
   "cell_type": "markdown",
   "id": "9d8a7895-4cc6-4400-8094-ea232439c88a",
   "metadata": {},
   "source": []
  },
  {
   "cell_type": "markdown",
   "id": "5e67d48a-6664-4c60-a722-a659789a2c28",
   "metadata": {},
   "source": []
  },
  {
   "cell_type": "markdown",
   "id": "f33a5c56-9b91-4737-904e-65ca984a65a7",
   "metadata": {},
   "source": []
  }
 ],
 "metadata": {
  "kernelspec": {
   "display_name": "Python 3 (ipykernel)",
   "language": "python",
   "name": "python3"
  },
  "language_info": {
   "codemirror_mode": {
    "name": "ipython",
    "version": 3
   },
   "file_extension": ".py",
   "mimetype": "text/x-python",
   "name": "python",
   "nbconvert_exporter": "python",
   "pygments_lexer": "ipython3",
   "version": "3.10.14"
  }
 },
 "nbformat": 4,
 "nbformat_minor": 5
}
