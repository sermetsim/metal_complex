{
 "cells": [
  {
   "cell_type": "markdown",
   "id": "b8575f58-136c-451e-9a8d-bd973721792e",
   "metadata": {},
   "source": [
    "# Welcome to **metal_complex**"
   ]
  },
  {
   "cell_type": "markdown",
   "id": "79835b12-048f-4e95-bc70-66b226d9748d",
   "metadata": {},
   "source": [
    "- ## **Introduction**"
   ]
  },
  {
   "cell_type": "markdown",
   "id": "e249b5fd-9489-4103-81a9-a6aa8bbb5322",
   "metadata": {},
   "source": [
    "The study of complexes is an important facet of chemistry. Indeed, chemical complexes have many fields of application such as catalysis, biorganic chemistry and organometallic chemistry. Complexes are usually formed from a central metal bound to several ligands. Although it may seem simple, complexes are sometimes difficult to guide. Indeed, ligands can be significant molecules, which makes the visualization of the complex and the study of its properties difficult. A principal property in the study of complexes is the oxidation state of central metal. Indeed, the oxidation state of the metal can influence the 3D structure but also the properties of the complex (the oxidation state of a metal can for example determine whether it has a high or low spin and thus what will be the possible UV-visible transitions of the complex).\n",
    "\n",
    "This report details the development and execution of a program whose purpose is to simplify the study of complexes by allowing the 3D visualization of the complexes, obtaining the oxidation state of the central metal and calculating the molar mass of the complex. \n"
   ]
  },
  {
   "cell_type": "markdown",
   "id": "ea4018cb-0ba9-4db9-95bf-6981315153e3",
   "metadata": {},
   "source": [
    "- ## **Objectives**"
   ]
  },
  {
   "cell_type": "markdown",
   "id": "0d6b6953-c9b7-47a3-a1eb-346d7703682e",
   "metadata": {},
   "source": [
    "The aims of this project was to develop a programm that can :\n",
    "1. Design interactive 3D structure of a complexe from smiles inputs \n",
    "2. Determine the oxydation state of the central metal atom of the complex\n",
    "3. Determine the molecular weight of sophisticated complexes"
   ]
  },
  {
   "cell_type": "markdown",
   "id": "489a9a93-ccb8-430b-ac84-e31c519d61c5",
   "metadata": {},
   "source": [
    "- ## **Tools and data used**"
   ]
  },
  {
   "cell_type": "markdown",
   "id": "95a78a17-beae-47f7-b3ba-937b5a595efe",
   "metadata": {},
   "source": [
    "First of all, jupyter lab was the environement used in order to do the notebooks and write the code.\n",
    "\n",
    "The following packages were used and are needed for the good execution of the code :\n",
    "\n",
    "- Pandas : a software library in order to shape and manipulate the data. \n",
    "- rdkit:  a software library for molecular modeling, analysis and design.\n",
    "- py3Dmol : a widget to embed interactive 3D molecula viewer in a notebook.\n",
    "- tkinter : a module for creating and managing graphical user interfaces.\n",
    "- RegEx (also named re): a package that implements regular expression search.\n",
    "\n",
    "The following data were used: \n",
    "\n",
    "- ligands_misc_info.csv : the data was used to find the bonding atom of each ligand and to finc the corresponding ligand number of each ligand. The data can be found at the following URL : [ligands_misc_info.csv](https://raw.githubusercontent.com/hkneiding/tmQMg-L/main/ligands_misc_info.csv)\n",
    "- ligands_fingerprints.csv : the data was used to find the charge of each ligand. The data canbe found at the following URL : [ligands_fingerprints.csv](https://raw.githubusercontent.com/hkneiding/tmQMg-L/main/ligands_fingerprints.csv)\n",
    "- oxydation_states_métaux.csv: the data was used in order to check if the oxydation state of the metal is possible or not. The data can be found at the following URL : [oxydation states métaux](https://github.com/sermetsim/metal_complex/blob/main/data/oxydation%20states%20m%C3%A9taux.csv) "
   ]
  },
  {
   "cell_type": "markdown",
   "id": "d3c6fb5c",
   "metadata": {},
   "source": [
    "- ## **Creation Process**"
   ]
  },
  {
   "cell_type": "markdown",
   "id": "dbc33d04",
   "metadata": {},
   "source": [
    "### 1. Modelise 3D metal complex\n",
    "\n",
    "The first and most difficult step was to model the complex in 3D. The problem encountered was that the 3Dmol Python library could not draw the given complex correctly as it was too complex and large. To resolve this, a function determining the coordinates of each atom of each ligand was written. However, a problem occurred when trying to connect these atoms, as the program would sometimes connect the wrong atoms together or not respect the octet rule (e.g., a hydrogen atom with two bonds). \n",
    "\n",
    "Therefore, another solution was found. Instead of connecting them directly in 3D, the ligands and the metal were grouped in the same 2D plane. With the help of a database, the coordinates of the linkage atoms of the ligands could be determined and bound to the metal. Once the final complex was formed in 2D, it could easily be transformed into 3D using RDKit functions."
   ]
  },
  {
   "cell_type": "markdown",
   "id": "29a59cfc",
   "metadata": {},
   "source": [
    "### 2. Calculate the molecular weight and oxidation state\n",
    "\n",
    "The second step involved calculating the molecular weight and oxidation state. The molecular weight was calculated using the *Chem.MolFromSmiles()* function, which computes the molecular weight of a given SMILES string. The molecular weights of the individual SMILES were then summed together to obtain the total molecular weight.\n",
    "\n",
    "For the oxidation state, the total charge of the ligands was determined with the help of a database containing the charges of various ligands. This information allowed the determination of the compound's oxidation state. However, a problem arose in a few cases where the metal preferred one oxidation state over another, even though it resulted in a charged complex instead of a neutral one (e.g., PtCl4, which prefers to be negatively charged even though Pt can have an oxidation state of IV). To address this issue, the total charge of the complex needs to be known and is requested from the user."
   ]
  },
  {
   "cell_type": "markdown",
   "id": "dc5dec24",
   "metadata": {},
   "source": [
    "### 3. Interface \n",
    "\n",
    "A Tkinter interface was created to allow the user to input their desired ligands and metal (as SMILES), as well as the global charge of the final complex. It also allows the user to choose what information should be returned (the 3D complex, the molecular weight, the oxidation state, or all of them). The results of the calculations are displayed within the interface; however, the 3D visualization is provided within the Jupyter Notebook. This is because it is impossible to create an interactive image in the Tkinter interface.\n"
   ]
  },
  {
   "cell_type": "markdown",
   "id": "ac3335b7-1cc3-4976-969d-fcf6b2d3ae35",
   "metadata": {},
   "source": [
    "- ## **What can achieve this python package?**"
   ]
  },
  {
   "cell_type": "markdown",
   "id": "f6a57fea-d9af-4ccd-9dfd-66be9f339a98",
   "metadata": {},
   "source": [
    "### Initialisation"
   ]
  },
  {
   "cell_type": "markdown",
   "id": "c9d51fbd-6f89-48fa-9be8-cbc2e270484a",
   "metadata": {},
   "source": [
    "First of all, the functions must be import."
   ]
  },
  {
   "cell_type": "code",
   "execution_count": 1,
   "id": "02f136e8-9f80-4715-bf30-04cf44cbc505",
   "metadata": {},
   "outputs": [],
   "source": [
    "import sys\n",
    "import os\n",
    "notebook_path = os.getcwd()\n",
    "src_path = os.path.abspath(os.path.join(notebook_path, \"../src/metal_complex\"))\n",
    "sys.path.insert(0, src_path)\n",
    "from metal_functions import *"
   ]
  },
  {
   "cell_type": "markdown",
   "id": "a9f945e5-c06a-4a78-b5ab-7cdc0008bfc2",
   "metadata": {},
   "source": [
    "### <u>Modelise 3D metal complex</u>\n",
    "This package has few useful functions as a chemist. First of all, let's talk about the 3D vizualisation of a metal complex as said in the package name. The next code show a six coordination number complex: $[Fe(en)_{3}]^{+3}$"
   ]
  },
  {
   "cell_type": "code",
   "execution_count": 5,
   "id": "a858a2f7-45a6-47e9-80e0-5afd2cc2de7b",
   "metadata": {},
   "outputs": [],
   "source": [
    "list_of_ligand_SMILES = ['N([H])([H])C([H])([H])C([H])([H])N([H])[H]','N([H])([H])C([H])([H])C([H])([H])N([H])[H]','N([H])([H])C([H])([H])C([H])([H])N([H])[H]']\n",
    "metal_SMILES = '[Fe]'\n",
    "metal_complex(list_of_ligand_SMILES, metal_SMILES)"
   ]
  },
  {
   "cell_type": "markdown",
   "id": "3a6531ef-1472-419e-8334-04eaaa9e4f6f",
   "metadata": {},
   "source": [
    "#### Errors\n",
    "As you can see, the molecule is interactive but some atoms are not recognize by rdkit (`error UFFTYPER`) but it does not impact the viewer. However, this function does not work with all ligands: firstly, it can return a non possible molecule with bad geometry and secondly, the results may changed if the code is use two times:"
   ]
  },
  {
   "cell_type": "code",
   "execution_count": 8,
   "id": "74cfd36e-ad57-439d-a22b-5f0d7b4f3d30",
   "metadata": {},
   "outputs": [],
   "source": [
    "list_of_ligand_SMILES = ['[Cl]','[Cl]','[Cl]','[Cl]','[Cl]','[Cl]']\n",
    "metal_SMILES = '[Ni]'\n",
    "metal_complex(list_of_ligand_SMILES, metal_SMILES)"
   ]
  },
  {
   "cell_type": "markdown",
   "id": "950b7677-60b5-4d77-a2a7-acf1e2d9056c",
   "metadata": {},
   "source": [
    "In this example, the molecule is not octahedric and the bonds between Ni and the Cls are of different length.  \n",
    "Nevertheless it is not the only problem: in the used data, <u>[ligands_misc_info.csv](https://raw.githubusercontent.com/hkneiding/tmQMg-L/main/ligands_misc_info.csv)</u>, some ligands does not have filled data. For example, the octane does not appear in the data, thus it returns an error because some functions cannot work without correct idx_list."
   ]
  },
  {
   "cell_type": "code",
   "execution_count": 9,
   "id": "9b03fcfc-e0bb-4c46-9433-50daf0aef3fa",
   "metadata": {},
   "outputs": [],
   "source": [
    "list_of_ligand_SMILES = ['[C]([H])([H])C([H])([H])C([H])([H])C([H])([H])C([H])([H])C([H])([H])C([H])([H])C([H])([H])[H]']\n",
    "metal_complex(list_of_ligand_SMILES, metal_SMILES)"
   ]
  },
  {
   "cell_type": "markdown",
   "id": "872704fa-d492-4d3f-b8e2-39b7861b148f",
   "metadata": {},
   "source": [
    "#### Test functions"
   ]
  },
  {
   "cell_type": "markdown",
   "id": "648f2e19-5fae-4d33-bade-126d00497149",
   "metadata": {},
   "source": [
    "Another issue with in this functions is related to the test part. For example, with the function smiles_to_ligand, a list of SMILES is transformed into a list of mol object but for the same SMILES, the returned mol object is not the same:"
   ]
  },
  {
   "cell_type": "code",
   "execution_count": 9,
   "id": "6b54a7a0-a2b4-4aa6-8b1a-6297528e3627",
   "metadata": {},
   "outputs": [],
   "source": [
    "mol1 = Chem.MolFromSmiles('C')\n",
    "mol2 = Chem.MolFromSmiles('C')\n",
    "print(mol1, mol2)\n",
    "if mol1 != mol2:\n",
    "    print('Not the same mol object')"
   ]
  },
  {
   "cell_type": "markdown",
   "id": "d9753f03-97bb-4858-b257-9f78a515e478",
   "metadata": {},
   "source": [
    "As a consequence, the following functions (smiles_to_ligand, create_molecule_in_3D, metal_complex and show_complex) cannot be tested because it is impossible to predict the exact output mol object name."
   ]
  },
  {
   "cell_type": "markdown",
   "id": "e8ec9a3a-892d-4708-8e69-9d69d888e14e",
   "metadata": {},
   "source": [
    "### <u>Give the oxydation state</u>"
   ]
  },
  {
   "cell_type": "markdown",
   "id": "2248b736-bb28-4c78-a219-75d09a254032",
   "metadata": {},
   "source": [
    "This package can calculate the oxydation state of the metal center of the complexes. The next code calculate it for $[Fe(en)_{3}]^{+3}$ :  "
   ]
  },
  {
   "cell_type": "code",
   "execution_count": 9,
   "id": "d8b0e3be-3737-4199-a515-a5f2b46580e7",
   "metadata": {},
   "outputs": [],
   "source": [
    "ligands = ['N([H])([H])C([H])([H])C([H])([H])N([H])[H]','N([H])([H])C([H])([H])C([H])([H])N([H])[H]','N([H])([H])C([H])([H])C([H])([H])N([H])[H]']\n",
    "metal_SMILES = '[Fe]'\n",
    "charge = 3\n",
    "print(metal_oxydation_state(charge, total_charge_of_the_ligands(smile_to_number(ligands)), metal_SMILES))"
   ]
  },
  {
   "cell_type": "markdown",
   "id": "0cde2865-fa76-4951-ba02-491d77003370",
   "metadata": {},
   "source": [
    "This program can also tell if the oxydation state of the metal is impossible. the next code should calculate the oxydation state of the iron in the following complex: $[Fe(en)_{3}]^{+9}$, but this complex does not exist as the oxydation state of the Iron is impossible. The porgram should tell it : "
   ]
  },
  {
   "cell_type": "code",
   "execution_count": 13,
   "id": "247fff4d-d2f5-445e-ae00-02da6c91f499",
   "metadata": {},
   "outputs": [],
   "source": [
    "ligands = ['N([H])([H])C([H])([H])C([H])([H])N([H])[H]','N([H])([H])C([H])([H])C([H])([H])N([H])[H]','N([H])([H])C([H])([H])C([H])([H])N([H])[H]']\n",
    "metal_SMILES = '[Fe]'\n",
    "charge = 9\n",
    "print(metal_oxydation_state(charge, total_charge_of_the_ligands(smile_to_number(ligands)), metal_SMILES))"
   ]
  },
  {
   "cell_type": "markdown",
   "id": "5d1d3639-77bc-4dd0-b1f9-dbc25ab2e854",
   "metadata": {},
   "source": [
    "#### Errors\n",
    "Nevertheless, some ligands are not in the database so there can be some errors as one can se here with octane : "
   ]
  },
  {
   "cell_type": "code",
   "execution_count": 11,
   "id": "d5fadd49-6b15-41f7-a2ac-4f1a45aed58e",
   "metadata": {},
   "outputs": [],
   "source": [
    "ligands = ['[C]([H])([H])C([H])([H])C([H])([H])C([H])([H])C([H])([H])C([H])([H])C([H])([H])C([H])([H])[H]', '[C]([H])([H])C([H])([H])C([H])([H])C([H])([H])C([H])([H])C([H])([H])C([H])([H])C([H])([H])[H]', '[C]([H])([H])C([H])([H])C([H])([H])C([H])([H])C([H])([H])C([H])([H])C([H])([H])C([H])([H])[H]', '[C]([H])([H])C([H])([H])C([H])([H])C([H])([H])C([H])([H])C([H])([H])C([H])([H])C([H])([H])[H]', '[C]([H])([H])C([H])([H])C([H])([H])C([H])([H])C([H])([H])C([H])([H])C([H])([H])C([H])([H])[H]', '[C]([H])([H])C([H])([H])C([H])([H])C([H])([H])C([H])([H])C([H])([H])C([H])([H])C([H])([H])[H]']\n",
    "metal_SMILES = '[Fe]'\n",
    "charge = 0\n",
    "print(metal_oxydation_state(charge, total_charge_of_the_ligands(smile_to_number(ligands)), metal_SMILES))"
   ]
  },
  {
   "cell_type": "markdown",
   "id": "500bc3c2-bcdd-478f-a810-8b03fcd466e1",
   "metadata": {},
   "source": [
    "Here the program replies \"Sorry your ligand is invalid\" while the smiles are correct. The program fails to distinguish between correct smiles whose ligand is not in the database and smiles of a ligand that just does not exist. "
   ]
  },
  {
   "cell_type": "markdown",
   "id": "875058bb-c3ae-4530-aa2d-1577150a1e50",
   "metadata": {},
   "source": [
    "### <u>Give the moleculare mass</u>"
   ]
  },
  {
   "cell_type": "markdown",
   "id": "b63c7960-83be-4a07-88a7-d34090af46b5",
   "metadata": {},
   "source": [
    "A simple function add to the package determine the mass of the 3D complex by giving the SMILES of all the ligands and the one of the metal.  \n",
    "The functions is round at 3 decimals and show the molecular mass even if the molecule does not appear correctly with the <u>metal_complex</u> function."
   ]
  },
  {
   "cell_type": "code",
   "execution_count": 24,
   "id": "b4839b01-8422-445a-8fa2-0a90dc759863",
   "metadata": {},
   "outputs": [],
   "source": [
    "list_of_ligand_SMILES = ['[Cl]','[Cl]','[Cl]','[Cl]','[Cl]','[Cl]']\n",
    "metal_SMILES = '[Ni]'\n",
    "print(calculate_MO(list_of_ligand_SMILES, metal_SMILES))\n",
    "\n",
    "list_of_ligand_SMILES = ['c1ccccc1','c1ccccc1','c1ccccc1','c1ccccc1']\n",
    "metal_SMILES = '[Pt]'\n",
    "print(calculate_MO(list_of_ligand_SMILES, metal_SMILES))"
   ]
  },
  {
   "cell_type": "markdown",
   "id": "13a0b6c9-47fa-40f0-9e60-ca857503b682",
   "metadata": {},
   "source": [
    "- ## **Tkinter interface**"
   ]
  },
  {
   "cell_type": "markdown",
   "id": "264dc0a0-f431-44f1-8386-4b8f7afb5998",
   "metadata": {},
   "source": [
    "A Tkinter interface has been created (file: <u>[src/metal_complex/interface_project.py](https://github.com/sermetsim/metal_complex/blob/main/src/metal_complex/interface_project.py)</u>). When the script is run an interface appears with the following elements:\n",
    "- 6 ligand entries\n",
    "- 1 metal SMILES entry\n",
    "- 1 total complex charge entry\n",
    "- 1 'Submit' button\n",
    "- 3 checkboxes  \n",
    "With these checkboxes, the oxidation state and the molecular mass of the metal can be shown directly on the interface by selecting the corresponding checkboxes. However, the 3D metal complex cannot be shown directly on the interface because it is an interactive 3D object."
   ]
  },
  {
   "cell_type": "markdown",
   "id": "d6ef12ce-ea80-42ee-99e9-834ac6e7b2e3",
   "metadata": {},
   "source": [
    "Here is the code to run the interface:"
   ]
  },
  {
   "cell_type": "code",
   "execution_count": 5,
   "id": "65f5e1a9-fcc9-4c0f-9846-d74a9ddc4690",
   "metadata": {},
   "outputs": [],
   "source": [
    "%run ../src/metal_complex/interface_project.py"
   ]
  },
  {
   "cell_type": "markdown",
   "id": "21995008-02fd-43ee-8053-bd807be8e13a",
   "metadata": {},
   "source": [
    "- ## **Faced challenges**"
   ]
  },
  {
   "cell_type": "markdown",
   "id": "dde61365-c5d9-4595-aafa-f75870d67522",
   "metadata": {},
   "source": [
    "### <u>Create a 3D metal complex</u>"
   ]
  },
  {
   "cell_type": "markdown",
   "id": "e7d1369f-d520-4ec5-b58d-8d3aa699f4b6",
   "metadata": {},
   "source": [
    "At the beginning, the aim was to convert a metal complex SMILES directly to a mol object, nevertheless, these types of molecules does not always have SMILES.  \n",
    "The next step was to recover the XYZ file on the <u>[tmqmg-l](https://github.com/hkneiding/tmQMg-L)</u> dataset and create bond for close atoms. But another probelm raised up: some hydrogen atoms was enough closed to the metal to be bond at it, consequently there were a lot of valence electron problems.  \n",
    "Finally, the best approach was to use the Chem.CombineMol(mol1,mol2) function of RdKit to combine the ligand mol objects to the metal atoms throught the MolBlock file and create 3D coordinate with AllChem.EmbedMolecule(mol)."
   ]
  },
  {
   "cell_type": "markdown",
   "id": "cab2fe21-317a-4ad0-9709-6cc88b834a42",
   "metadata": {},
   "source": [
    "By using this method, the only requirements was to know the atoms that will bond with the metal. On the previous dataset, this information was also given but the index of the bonding atoms also counts the H-atoms that do not appear explicitly in the MolBlock. Therefore, the function simplify_idx was used to obtain the index of the atoms without counting the H-atoms."
   ]
  },
  {
   "cell_type": "markdown",
   "id": "22f9b9ab-e67b-4ceb-bd87-a32413c029bc",
   "metadata": {},
   "source": [
    "Of course, a lot of minor issues raised up during all the coding part like understand how to make a manual bond between two atoms, how to extract the valued information of the given dataset."
   ]
  },
  {
   "cell_type": "markdown",
   "id": "481eb111-670d-40eb-9b23-4fcbf765efae",
   "metadata": {},
   "source": [
    "### <u>Find the oxydation state</u>"
   ]
  },
  {
   "cell_type": "markdown",
   "id": "9df98391-7ff6-4247-9db4-279450c90444",
   "metadata": {},
   "source": [
    "The difficulty for this part was to find a usable database to have the possible oxidation states for metals. A github repository on the subject was found but the data was to hard to manipulate so a .csv file was created to meet the expectations. This file is the file oxidation_states_métaux.csv"
   ]
  },
 {
   "cell_type": "markdown",
   "id": "c1b558dd",
   "metadata": {},
   "source": [
    "- ## **Conclusion**"
   ]
  },
  {
   "cell_type": "markdown",
   "id": "fbf1fd31",
   "metadata": {},
   "source": [
    "This Python package simplifies the study of chemical complexes by providing tools for 3D visualization, molecular weight calculation, and oxidation state determination. The Tkinter interface allows users to input ligands and metals (as SMILES) and choose the desired output, enhancing usability.\n",
    "\n",
    "Despite challenges in modeling complex structures, the approach of transforming 2D planes into 3D models using RDKit functions proved effective. Limitations include the constraints of the database and the inability to create interactive 3D images directly in Tkinter, which are instead rendered in a Jupyter Notebook.\n",
    "\n",
    "Overall, the project successfully aids in visualizing and analyzing chemical complexes. Future improvements could enhance model accuracy and expand the ligand database to reduce errors. This tool is valuable for chemists in both research and education."
   ]
  },
  {
   "cell_type": "markdown",
   "id": "9d8a7895-4cc6-4400-8094-ea232439c88a",
   "metadata": {},
   "source": [
    "- ## **Further developpement**"
   ]
  },
  {
   "cell_type": "markdown",
   "id": "5e67d48a-6664-4c60-a722-a659789a2c28",
   "metadata": {},
   "source": [
    "The future developments of this program would be to determine the number of valence electrons of the central metal in order to be able to predict which reactions are possible with the complex. By concentrating on the field of organometallic chemistry, it would be possible to determine which of the following reactions is possible or most likely : \n",
    "\n",
    "- Ligand association\n",
    "- Ligand dissociation\n",
    "- Oxydative addition\n",
    "- Reductive elimination\n",
    "- Migratory insertion\n",
    "- β-H elimination\n",
    "\n",
    "This would be useful in the study of certain reaction and catalytic properties of complexes and metals.  \n",
    "Another possible developpement would be to show the 3D metal complex directly on the Tkinter interface or, if it is not possible with Tkinter, on another interface."
   ]
  }
 ],
 "metadata": {
  "kernelspec": {
   "display_name": "Python 3 (ipykernel)",
   "language": "python",
   "name": "python3"
  },
  "language_info": {
   "codemirror_mode": {
    "name": "ipython",
    "version": 3
   },
   "file_extension": ".py",
   "mimetype": "text/x-python",
   "name": "python",
   "nbconvert_exporter": "python",
   "pygments_lexer": "ipython3",
   "version": "3.10.13"
  }
 },
 "nbformat": 4,
 "nbformat_minor": 5
}
