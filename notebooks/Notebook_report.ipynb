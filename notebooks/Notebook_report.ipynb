{
 "cells": [
  {
   "cell_type": "markdown",
   "id": "b8575f58-136c-451e-9a8d-bd973721792e",
   "metadata": {},
   "source": [
    "# Welcome to **metal_complex**"
   ]
  },
  {
   "cell_type": "markdown",
   "id": "ac3335b7-1cc3-4976-969d-fcf6b2d3ae35",
   "metadata": {},
   "source": [
    "## What can achieve this python package?"
   ]
  },
  {
   "cell_type": "markdown",
   "id": "f6a57fea-d9af-4ccd-9dfd-66be9f339a98",
   "metadata": {
    "jp-MarkdownHeadingCollapsed": true
   },
   "source": [
    "### Initialisation"
   ]
  },
  {
   "cell_type": "markdown",
   "id": "c9d51fbd-6f89-48fa-9be8-cbc2e270484a",
   "metadata": {},
   "source": [
    "First of all, the functions must be import."
   ]
  },
  {
   "cell_type": "code",
   "execution_count": 1,
   "id": "02f136e8-9f80-4715-bf30-04cf44cbc505",
   "metadata": {},
   "outputs": [],
   "source": [
    "import sys\n",
    "import os\n",
    "notebook_path = os.getcwd()  # Get the current working directory\n",
    "src_path = os.path.abspath(os.path.join(notebook_path, \"../src\"))\n",
    "sys.path.insert(0, src_path)\n",
    "from main_functions import *"
   ]
  },
  {
   "cell_type": "markdown",
   "id": "a9f945e5-c06a-4a78-b5ab-7cdc0008bfc2",
   "metadata": {},
   "source": [
    "### Modelise 3D metal complex\n",
    "This package has few useful functions as a chemist. First of all, let's talk about the 3D vizualisation of a metal complex as said in the package name. The next code show a six coordination number complex: $[Fe(en)_{3}]^{+3}$"
   ]
  },
  {
   "cell_type": "code",
   "execution_count": 15,
   "id": "a858a2f7-45a6-47e9-80e0-5afd2cc2de7b",
   "metadata": {},
   "outputs": [
    {
     "name": "stderr",
     "output_type": "stream",
     "text": [
      "[15:21:04] UFFTYPER: Unrecognized atom type: N_5 (0)\n",
      "[15:21:04] UFFTYPER: Unrecognized atom type: N_5 (3)\n",
      "[15:21:04] UFFTYPER: Unrecognized atom type: N_5 (4)\n",
      "[15:21:04] UFFTYPER: Unrecognized atom type: N_5 (7)\n",
      "[15:21:04] UFFTYPER: Unrecognized atom type: N_5 (8)\n",
      "[15:21:04] UFFTYPER: Unrecognized atom type: N_5 (11)\n",
      "[15:21:04] UFFTYPER: Unrecognized hybridization for atom: 12\n",
      "[15:21:04] UFFTYPER: Unrecognized atom type: Fe+2 (12)\n"
     ]
    },
    {
     "data": {
      "application/3dmoljs_load.v0": "<div id=\"3dmolviewer_17164704648589041\"  style=\"position: relative; width: 400px; height: 300px;\">\n        <p id=\"3dmolwarning_17164704648589041\" style=\"background-color:#ffcccc;color:black\">3Dmol.js failed to load for some reason.  Please check your browser console for error messages.<br></p>\n        </div>\n<script>\n\nvar loadScriptAsync = function(uri){\n  return new Promise((resolve, reject) => {\n    //this is to ignore the existence of requirejs amd\n    var savedexports, savedmodule;\n    if (typeof exports !== 'undefined') savedexports = exports;\n    else exports = {}\n    if (typeof module !== 'undefined') savedmodule = module;\n    else module = {}\n\n    var tag = document.createElement('script');\n    tag.src = uri;\n    tag.async = true;\n    tag.onload = () => {\n        exports = savedexports;\n        module = savedmodule;\n        resolve();\n    };\n  var firstScriptTag = document.getElementsByTagName('script')[0];\n  firstScriptTag.parentNode.insertBefore(tag, firstScriptTag);\n});\n};\n\nif(typeof $3Dmolpromise === 'undefined') {\n$3Dmolpromise = null;\n  $3Dmolpromise = loadScriptAsync('https://cdnjs.cloudflare.com/ajax/libs/3Dmol/2.1.0/3Dmol-min.js');\n}\n\nvar viewer_17164704648589041 = null;\nvar warn = document.getElementById(\"3dmolwarning_17164704648589041\");\nif(warn) {\n    warn.parentNode.removeChild(warn);\n}\n$3Dmolpromise.then(function() {\nviewer_17164704648589041 = $3Dmol.createViewer(document.getElementById(\"3dmolviewer_17164704648589041\"),{backgroundColor:\"white\"});\nviewer_17164704648589041.zoomTo();\n\tviewer_17164704648589041.addModel(\"\\n     RDKit          3D\\n\\n  0  0  0  0  0  0  0  0  0  0999 V3000\\nM  V30 BEGIN CTAB\\nM  V30 COUNTS 37 39 0 0 0\\nM  V30 BEGIN ATOM\\nM  V30 1 N -0.774377 0.958144 1.434201 0 VAL=4\\nM  V30 2 C -1.126655 2.662696 1.151075 0\\nM  V30 3 C 0.187345 2.827367 0.342749 0\\nM  V30 4 N 0.244519 1.500928 -0.383135 0 VAL=4\\nM  V30 5 N -1.064018 -0.793012 -1.466597 0 VAL=4\\nM  V30 6 C -1.625125 -2.195776 -1.589243 0\\nM  V30 7 C -2.185045 -2.281681 -0.123637 0\\nM  V30 8 N -0.965144 -1.636924 0.523432 0 VAL=4\\nM  V30 9 N 1.548855 -0.029453 -1.075593 0 VAL=4\\nM  V30 10 C 3.082376 -0.328413 -0.274242 0\\nM  V30 11 C 2.664357 0.496842 0.950275 0\\nM  V30 12 N 1.177650 0.134916 1.073289 0 VAL=4\\nM  V30 13 Fe -0.072697 -0.095982 -0.035862 0 VAL=6\\nM  V30 14 H -1.242769 0.663849 2.279682 0\\nM  V30 15 H -2.522497 0.694434 0.600167 0\\nM  V30 16 H -1.983550 2.823369 0.603041 0\\nM  V30 17 H -0.971057 2.985943 2.163761 0\\nM  V30 18 H 0.049028 3.722916 -0.242031 0\\nM  V30 19 H 0.968914 2.987921 1.062015 0\\nM  V30 20 H -1.720971 1.950140 -0.833624 0\\nM  V30 21 H -0.022553 1.963603 -1.858431 0\\nM  V30 22 H -1.106943 -0.111391 -2.507699 0\\nM  V30 23 H -2.587280 0.026014 -0.954253 0\\nM  V30 24 H -0.889729 -2.938673 -1.783818 0\\nM  V30 25 H -2.496004 -2.302067 -2.205666 0\\nM  V30 26 H -3.083279 -1.736007 0.007725 0\\nM  V30 27 H -2.288413 -3.328512 0.067871 0\\nM  V30 28 H 0.278721 -2.757273 -0.068659 0\\nM  V30 29 H -0.747235 -2.044965 1.679807 0\\nM  V30 30 H 1.686371 -0.084891 -2.091599 0\\nM  V30 31 H 1.446846 -1.951591 -1.150080 0\\nM  V30 32 H 3.235879 -1.323595 -0.047808 0\\nM  V30 33 H 3.695390 0.257111 -0.932017 0\\nM  V30 34 H 3.311186 0.211424 1.763013 0\\nM  V30 35 H 2.838820 1.528476 0.706880 0\\nM  V30 36 H 1.162522 -0.668470 2.349550 0\\nM  V30 37 H 1.896564 -1.787416 0.865462 0\\nM  V30 END ATOM\\nM  V30 BEGIN BOND\\nM  V30 1 1 1 2\\nM  V30 2 1 2 3\\nM  V30 3 1 3 4\\nM  V30 4 1 5 6\\nM  V30 5 1 6 7\\nM  V30 6 1 7 8\\nM  V30 7 1 9 10\\nM  V30 8 1 10 11\\nM  V30 9 1 11 12\\nM  V30 10 1 1 13\\nM  V30 11 1 4 13\\nM  V30 12 1 5 13\\nM  V30 13 1 8 13\\nM  V30 14 1 9 13\\nM  V30 15 1 12 13\\nM  V30 16 1 1 14\\nM  V30 17 1 1 15\\nM  V30 18 1 2 16\\nM  V30 19 1 2 17\\nM  V30 20 1 3 18\\nM  V30 21 1 3 19\\nM  V30 22 1 4 20\\nM  V30 23 1 4 21\\nM  V30 24 1 5 22\\nM  V30 25 1 5 23\\nM  V30 26 1 6 24\\nM  V30 27 1 6 25\\nM  V30 28 1 7 26\\nM  V30 29 1 7 27\\nM  V30 30 1 8 28\\nM  V30 31 1 8 29\\nM  V30 32 1 9 30\\nM  V30 33 1 9 31\\nM  V30 34 1 10 32\\nM  V30 35 1 10 33\\nM  V30 36 1 11 34\\nM  V30 37 1 11 35\\nM  V30 38 1 12 36\\nM  V30 39 1 12 37\\nM  V30 END BOND\\nM  V30 BEGIN COLLECTION\\nM  V30 MDLV30/STEABS ATOMS=(0)\\nM  V30 END COLLECTION\\nM  V30 END CTAB\\nM  END\\n\",\"mol\");\n\tviewer_17164704648589041.setStyle({\"stick\": {}});\n\tviewer_17164704648589041.zoomTo();\nviewer_17164704648589041.render();\n});\n</script>",
      "text/html": [
       "<div id=\"3dmolviewer_17164704648589041\"  style=\"position: relative; width: 400px; height: 300px;\">\n",
       "        <p id=\"3dmolwarning_17164704648589041\" style=\"background-color:#ffcccc;color:black\">3Dmol.js failed to load for some reason.  Please check your browser console for error messages.<br></p>\n",
       "        </div>\n",
       "<script>\n",
       "\n",
       "var loadScriptAsync = function(uri){\n",
       "  return new Promise((resolve, reject) => {\n",
       "    //this is to ignore the existence of requirejs amd\n",
       "    var savedexports, savedmodule;\n",
       "    if (typeof exports !== 'undefined') savedexports = exports;\n",
       "    else exports = {}\n",
       "    if (typeof module !== 'undefined') savedmodule = module;\n",
       "    else module = {}\n",
       "\n",
       "    var tag = document.createElement('script');\n",
       "    tag.src = uri;\n",
       "    tag.async = true;\n",
       "    tag.onload = () => {\n",
       "        exports = savedexports;\n",
       "        module = savedmodule;\n",
       "        resolve();\n",
       "    };\n",
       "  var firstScriptTag = document.getElementsByTagName('script')[0];\n",
       "  firstScriptTag.parentNode.insertBefore(tag, firstScriptTag);\n",
       "});\n",
       "};\n",
       "\n",
       "if(typeof $3Dmolpromise === 'undefined') {\n",
       "$3Dmolpromise = null;\n",
       "  $3Dmolpromise = loadScriptAsync('https://cdnjs.cloudflare.com/ajax/libs/3Dmol/2.1.0/3Dmol-min.js');\n",
       "}\n",
       "\n",
       "var viewer_17164704648589041 = null;\n",
       "var warn = document.getElementById(\"3dmolwarning_17164704648589041\");\n",
       "if(warn) {\n",
       "    warn.parentNode.removeChild(warn);\n",
       "}\n",
       "$3Dmolpromise.then(function() {\n",
       "viewer_17164704648589041 = $3Dmol.createViewer(document.getElementById(\"3dmolviewer_17164704648589041\"),{backgroundColor:\"white\"});\n",
       "viewer_17164704648589041.zoomTo();\n",
       "\tviewer_17164704648589041.addModel(\"\\n     RDKit          3D\\n\\n  0  0  0  0  0  0  0  0  0  0999 V3000\\nM  V30 BEGIN CTAB\\nM  V30 COUNTS 37 39 0 0 0\\nM  V30 BEGIN ATOM\\nM  V30 1 N -0.774377 0.958144 1.434201 0 VAL=4\\nM  V30 2 C -1.126655 2.662696 1.151075 0\\nM  V30 3 C 0.187345 2.827367 0.342749 0\\nM  V30 4 N 0.244519 1.500928 -0.383135 0 VAL=4\\nM  V30 5 N -1.064018 -0.793012 -1.466597 0 VAL=4\\nM  V30 6 C -1.625125 -2.195776 -1.589243 0\\nM  V30 7 C -2.185045 -2.281681 -0.123637 0\\nM  V30 8 N -0.965144 -1.636924 0.523432 0 VAL=4\\nM  V30 9 N 1.548855 -0.029453 -1.075593 0 VAL=4\\nM  V30 10 C 3.082376 -0.328413 -0.274242 0\\nM  V30 11 C 2.664357 0.496842 0.950275 0\\nM  V30 12 N 1.177650 0.134916 1.073289 0 VAL=4\\nM  V30 13 Fe -0.072697 -0.095982 -0.035862 0 VAL=6\\nM  V30 14 H -1.242769 0.663849 2.279682 0\\nM  V30 15 H -2.522497 0.694434 0.600167 0\\nM  V30 16 H -1.983550 2.823369 0.603041 0\\nM  V30 17 H -0.971057 2.985943 2.163761 0\\nM  V30 18 H 0.049028 3.722916 -0.242031 0\\nM  V30 19 H 0.968914 2.987921 1.062015 0\\nM  V30 20 H -1.720971 1.950140 -0.833624 0\\nM  V30 21 H -0.022553 1.963603 -1.858431 0\\nM  V30 22 H -1.106943 -0.111391 -2.507699 0\\nM  V30 23 H -2.587280 0.026014 -0.954253 0\\nM  V30 24 H -0.889729 -2.938673 -1.783818 0\\nM  V30 25 H -2.496004 -2.302067 -2.205666 0\\nM  V30 26 H -3.083279 -1.736007 0.007725 0\\nM  V30 27 H -2.288413 -3.328512 0.067871 0\\nM  V30 28 H 0.278721 -2.757273 -0.068659 0\\nM  V30 29 H -0.747235 -2.044965 1.679807 0\\nM  V30 30 H 1.686371 -0.084891 -2.091599 0\\nM  V30 31 H 1.446846 -1.951591 -1.150080 0\\nM  V30 32 H 3.235879 -1.323595 -0.047808 0\\nM  V30 33 H 3.695390 0.257111 -0.932017 0\\nM  V30 34 H 3.311186 0.211424 1.763013 0\\nM  V30 35 H 2.838820 1.528476 0.706880 0\\nM  V30 36 H 1.162522 -0.668470 2.349550 0\\nM  V30 37 H 1.896564 -1.787416 0.865462 0\\nM  V30 END ATOM\\nM  V30 BEGIN BOND\\nM  V30 1 1 1 2\\nM  V30 2 1 2 3\\nM  V30 3 1 3 4\\nM  V30 4 1 5 6\\nM  V30 5 1 6 7\\nM  V30 6 1 7 8\\nM  V30 7 1 9 10\\nM  V30 8 1 10 11\\nM  V30 9 1 11 12\\nM  V30 10 1 1 13\\nM  V30 11 1 4 13\\nM  V30 12 1 5 13\\nM  V30 13 1 8 13\\nM  V30 14 1 9 13\\nM  V30 15 1 12 13\\nM  V30 16 1 1 14\\nM  V30 17 1 1 15\\nM  V30 18 1 2 16\\nM  V30 19 1 2 17\\nM  V30 20 1 3 18\\nM  V30 21 1 3 19\\nM  V30 22 1 4 20\\nM  V30 23 1 4 21\\nM  V30 24 1 5 22\\nM  V30 25 1 5 23\\nM  V30 26 1 6 24\\nM  V30 27 1 6 25\\nM  V30 28 1 7 26\\nM  V30 29 1 7 27\\nM  V30 30 1 8 28\\nM  V30 31 1 8 29\\nM  V30 32 1 9 30\\nM  V30 33 1 9 31\\nM  V30 34 1 10 32\\nM  V30 35 1 10 33\\nM  V30 36 1 11 34\\nM  V30 37 1 11 35\\nM  V30 38 1 12 36\\nM  V30 39 1 12 37\\nM  V30 END BOND\\nM  V30 BEGIN COLLECTION\\nM  V30 MDLV30/STEABS ATOMS=(0)\\nM  V30 END COLLECTION\\nM  V30 END CTAB\\nM  END\\n\",\"mol\");\n",
       "\tviewer_17164704648589041.setStyle({\"stick\": {}});\n",
       "\tviewer_17164704648589041.zoomTo();\n",
       "viewer_17164704648589041.render();\n",
       "});\n",
       "</script>"
      ]
     },
     "metadata": {},
     "output_type": "display_data"
    }
   ],
   "source": [
    "list_of_ligand_SMILES = ['N([H])([H])C([H])([H])C([H])([H])N([H])[H]','N([H])([H])C([H])([H])C([H])([H])N([H])[H]','N([H])([H])C([H])([H])C([H])([H])N([H])[H]']\n",
    "metal_SMILES = '[Fe]'\n",
    "metal_complex(list_of_ligand_SMILES, metal_SMILES)"
   ]
  },
  {
   "cell_type": "markdown",
   "id": "3a6531ef-1472-419e-8334-04eaaa9e4f6f",
   "metadata": {},
   "source": [
    "#### Errors\n",
    "As you can see, the molecule is interactive but some atoms are not recognize by rdkit (`error UFFTYPER`) but it does not impact the viewer. However, this function does not work with all ligands, often it better works with chelating ligands: firstly, it can return a non possible molecule with bad geometry and secondly, the results may changed if the code is use two times:"
   ]
  },
  {
   "cell_type": "code",
   "execution_count": 14,
   "id": "74cfd36e-ad57-439d-a22b-5f0d7b4f3d30",
   "metadata": {},
   "outputs": [],
   "source": [
    "list_of_ligand_SMILES = ['[Cl]','[Cl]','[Cl]','[Cl]','[Cl]','[Cl]']\n",
    "metal_SMILES = '[Ni]'\n",
    "metal_complex(list_of_ligand_SMILES, metal_SMILES)"
   ]
  },
  {
   "cell_type": "markdown",
   "id": "950b7677-60b5-4d77-a2a7-acf1e2d9056c",
   "metadata": {},
   "source": [
    "In this example, the molecule is not octahedric and the bonds between Ni and the Cls are of different length.  \n",
    "Nevertheless it is not the only problem: in the used data, <u>ligands_misc_info.csv</u>, some ligands does not have filled data. For example, the octane does not appear in the data, thus it returns an error because some functions cannot work without correct idx_list.  \n",
    "Also, the input SMILES **<u>need</u>** to be the one in the <u>ligands_misc_info.csv</u> data, otherwise an error can be raised or a wrong molecule can be shown."
   ]
  },
  {
   "cell_type": "code",
   "execution_count": 12,
   "id": "9b03fcfc-e0bb-4c46-9433-50daf0aef3fa",
   "metadata": {},
   "outputs": [],
   "source": [
    "list_of_ligand_SMILES = ['[C]([H])([H])C([H])([H])C([H])([H])C([H])([H])C([H])([H])C([H])([H])C([H])([H])C([H])([H])[H]']\n",
    "metal_complex(list_of_ligand_SMILES, metal_SMILES)"
   ]
  },
  {
   "cell_type": "markdown",
   "id": "a5226efb-812e-4264-825c-465cd961b3c4",
   "metadata": {},
   "source": [
    "#### Challenges"
   ]
  },
  {
   "cell_type": "markdown",
   "id": "d5ed5bca-1c64-46fb-8cac-fad8b7e29469",
   "metadata": {},
   "source": [
    "For this function"
   ]
  },
  {
   "cell_type": "markdown",
   "id": "db288b15-53d4-427d-8875-ad11f1061a8a",
   "metadata": {},
   "source": []
  },
  {
   "cell_type": "markdown",
   "id": "e8ec9a3a-892d-4708-8e69-9d69d888e14e",
   "metadata": {
    "jp-MarkdownHeadingCollapsed": true
   },
   "source": [
    "### Give the oxydation state"
   ]
  },
  {
   "cell_type": "markdown",
   "id": "2248b736-bb28-4c78-a219-75d09a254032",
   "metadata": {},
   "source": []
  },
  {
   "cell_type": "markdown",
   "id": "875058bb-c3ae-4530-aa2d-1577150a1e50",
   "metadata": {
    "jp-MarkdownHeadingCollapsed": true
   },
   "source": [
    "### Give the moleculare mass"
   ]
  },
  {
   "cell_type": "markdown",
   "id": "b63c7960-83be-4a07-88a7-d34090af46b5",
   "metadata": {},
   "source": [
    "A simple function add to the package determine the mass of the 3D complex by giving the SMILES of all the ligands and the one of the metal.  \n",
    "The functions is round at 3 decimals and show the molecular mass even if the molecule does not appear correctly with the <u>metal_complex</u> function."
   ]
  },
  {
   "cell_type": "code",
   "execution_count": 24,
   "id": "b4839b01-8422-445a-8fa2-0a90dc759863",
   "metadata": {},
   "outputs": [],
   "source": [
    "list_of_ligand_SMILES = ['[Cl]','[Cl]','[Cl]','[Cl]','[Cl]','[Cl]']\n",
    "metal_SMILES = '[Ni]'\n",
    "print(calculate_MO(list_of_ligand_SMILES, metal_SMILES))\n",
    "\n",
    "list_of_ligand_SMILES = ['c1ccccc1','c1ccccc1','c1ccccc1','c1ccccc1']\n",
    "metal_SMILES = '[Pt]'\n",
    "print(calculate_MO(list_of_ligand_SMILES, metal_SMILES))"
   ]
  },
  {
   "cell_type": "markdown",
   "id": "13a0b6c9-47fa-40f0-9e60-ca857503b682",
   "metadata": {},
   "source": [
    "## Tkinter interface"
   ]
  },
  {
   "cell_type": "markdown",
   "id": "264dc0a0-f431-44f1-8386-4b8f7afb5998",
   "metadata": {},
   "source": []
  },
  {
   "cell_type": "markdown",
   "id": "d6ef12ce-ea80-42ee-99e9-834ac6e7b2e3",
   "metadata": {},
   "source": []
  },
  {
   "cell_type": "markdown",
   "id": "9d8a7895-4cc6-4400-8094-ea232439c88a",
   "metadata": {},
   "source": []
  },
  {
   "cell_type": "markdown",
   "id": "5e67d48a-6664-4c60-a722-a659789a2c28",
   "metadata": {},
   "source": []
  },
  {
   "cell_type": "markdown",
   "id": "f33a5c56-9b91-4737-904e-65ca984a65a7",
   "metadata": {},
   "source": []
  }
 ],
 "metadata": {
  "kernelspec": {
   "display_name": "Python 3 (ipykernel)",
   "language": "python",
   "name": "python3"
  },
  "language_info": {
   "codemirror_mode": {
    "name": "ipython",
    "version": 3
   },
   "file_extension": ".py",
   "mimetype": "text/x-python",
   "name": "python",
   "nbconvert_exporter": "python",
   "pygments_lexer": "ipython3",
   "version": "3.10.14"
  }
 },
 "nbformat": 4,
 "nbformat_minor": 5
}
